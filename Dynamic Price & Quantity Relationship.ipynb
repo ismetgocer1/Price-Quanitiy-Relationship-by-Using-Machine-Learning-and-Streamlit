{
 "cells": [
  {
   "cell_type": "code",
   "execution_count": 1,
   "id": "3b5c6964",
   "metadata": {},
   "outputs": [
    {
     "name": "stdout",
     "output_type": "stream",
     "text": [
      "Writing Price_optimization_Streamlit1.py\n"
     ]
    }
   ],
   "source": [
    "%%writefile Price_optimization_Streamlit1.py\n",
    "import streamlit as st\n",
    "import matplotlib.pyplot as plt\n",
    "import numpy as np\n",
    "\n",
    "# Model fonksiyonu\n",
    "def model_function(price):\n",
    "    return 286.92 - 2.38 * price\n",
    "\n",
    "# Streamlit uygulaması başlığı\n",
    "st.title(\"Price & Quantity Relationship\")\n",
    "\n",
    "# Slider oluştur\n",
    "price = st.slider(\"Select the Price (P)\", min_value=0, max_value=120, value=50)\n",
    "\n",
    "# Modelden miktarı hesapla\n",
    "quantity = model_function(price)\n",
    "\n",
    "# Grafik çiz\n",
    "fig, ax = plt.subplots()\n",
    "prices = np.arange(0, 120, 1)\n",
    "quantities = model_function(prices)\n",
    "ax.plot(prices, quantities, label=\"Q = 286.92 - 2.38P\")\n",
    "ax.scatter([price], [quantity], color='red')  # Kullanıcının seçtiği nokta\n",
    "\n",
    "# Nokta üzerinde P ve Q değerlerini yazdır\n",
    "ax.text(price, quantity, f\"P={price}, Q={quantity:.2f}\", color='blue', ha='left', va='bottom')\n",
    "\n",
    "ax.set_xlabel(\"Price (P)\")\n",
    "ax.set_ylabel(\"Quantity (Q)\")\n",
    "ax.legend()\n",
    "st.pyplot(fig)\n"
   ]
  },
  {
   "cell_type": "code",
   "execution_count": null,
   "id": "61380400",
   "metadata": {},
   "outputs": [],
   "source": [
    "!streamlit run Price_optimization_Streamlit1.py"
   ]
  },
  {
   "cell_type": "code",
   "execution_count": null,
   "id": "142a14fe",
   "metadata": {},
   "outputs": [],
   "source": []
  }
 ],
 "metadata": {
  "kernelspec": {
   "display_name": "Python 3 (ipykernel)",
   "language": "python",
   "name": "python3"
  },
  "language_info": {
   "codemirror_mode": {
    "name": "ipython",
    "version": 3
   },
   "file_extension": ".py",
   "mimetype": "text/x-python",
   "name": "python",
   "nbconvert_exporter": "python",
   "pygments_lexer": "ipython3",
   "version": "3.11.5"
  },
  "toc": {
   "base_numbering": 1,
   "nav_menu": {},
   "number_sections": true,
   "sideBar": true,
   "skip_h1_title": false,
   "title_cell": "Table of Contents",
   "title_sidebar": "Contents",
   "toc_cell": false,
   "toc_position": {},
   "toc_section_display": true,
   "toc_window_display": false
  }
 },
 "nbformat": 4,
 "nbformat_minor": 5
}
